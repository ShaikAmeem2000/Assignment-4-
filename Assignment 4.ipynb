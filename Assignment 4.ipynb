{
 "cells": [
  {
   "cell_type": "code",
   "execution_count": 2,
   "id": "9ea61667",
   "metadata": {},
   "outputs": [],
   "source": [
    "# 1. Given a list of numbers, write a python program that returns a new list which Has all duplicate elements removed. And is sorted in an increasing order.\n"
   ]
  },
  {
   "cell_type": "code",
   "execution_count": 3,
   "id": "3273978f",
   "metadata": {},
   "outputs": [
    {
     "data": {
      "text/plain": [
       "[1, 2, 3, 4, 7, 8, 9]"
      ]
     },
     "execution_count": 3,
     "metadata": {},
     "output_type": "execute_result"
    }
   ],
   "source": [
    "a=[2,1,3,4,2,3,3,2,7,9,8,7]\n",
    "list(set(a))"
   ]
  },
  {
   "cell_type": "code",
   "execution_count": 4,
   "id": "df742acf",
   "metadata": {},
   "outputs": [],
   "source": [
    "# 2. Write a Python program where you will iterate over both keys and values in dictionaries"
   ]
  },
  {
   "cell_type": "code",
   "execution_count": 5,
   "id": "36b5af15",
   "metadata": {},
   "outputs": [
    {
     "name": "stdout",
     "output_type": "stream",
     "text": [
      "Enter your keys here : apple\n",
      "Provide the values for that key here : 50\n",
      "Type Y to continue or N to stop : y\n",
      "Enter your keys here : banana\n",
      "Provide the values for that key here : 50\n",
      "Type Y to continue or N to stop : y\n",
      "Enter your keys here : grapes\n",
      "Provide the values for that key here : 55\n",
      "Type Y to continue or N to stop : n\n",
      "Dictonary items = {'apple': '50', 'banana': '50', 'grapes': '55'}\n",
      "Keys = dict_keys(['apple', 'banana', 'grapes'])\n",
      "Values = dict_values(['50', '50', '55'])\n"
     ]
    }
   ],
   "source": [
    "a=True\n",
    "dic={}\n",
    "while a:\n",
    "    keys=input(\"Enter your keys here : \")\n",
    "    values=input(\"Provide the values for that key here : \")\n",
    "    ask=input(\"Type Y to continue or N to stop : \")\n",
    "    dic.update({keys:values})\n",
    "    if ask==\"N\" or ask==\"n\":\n",
    "        break\n",
    "print(\"Dictonary items = {}\".format(dic))\n",
    "print(\"Keys = {}\".format(dic.keys()))\n",
    "print(\"Values = {}\".format(dic.values()))"
   ]
  },
  {
   "cell_type": "code",
   "execution_count": 6,
   "id": "0cbabc07",
   "metadata": {},
   "outputs": [],
   "source": [
    "# 3. Write a Python program that takes a dictionary of student names and returns a list of student names in alphabetical order"
   ]
  },
  {
   "cell_type": "code",
   "execution_count": 7,
   "id": "7249bddd",
   "metadata": {},
   "outputs": [
    {
     "name": "stdout",
     "output_type": "stream",
     "text": [
      "enter their roll number : 5\n",
      "Provide student name here : siddu\n",
      "Type Y to continue or N to stop : y\n",
      "enter their roll number : 3\n",
      "Provide student name here : teja\n",
      "Type Y to continue or N to stop : y\n",
      "enter their roll number : 7\n",
      "Provide student name here : ameem\n",
      "Type Y to continue or N to stop : y\n",
      "enter their roll number : 9\n",
      "Provide student name here : keerthi\n",
      "Type Y to continue or N to stop : n\n",
      "{'5': 'siddu', '3': 'teja', '7': 'ameem', '9': 'keerthi'}\n",
      "\n",
      "Sorted names = ['ameem', 'keerthi', 'siddu', 'teja']\n"
     ]
    }
   ],
   "source": [
    "a=True\n",
    "students={}\n",
    "while a:\n",
    "    num=input(\"enter their roll number : \")\n",
    "    name=input(\"Provide student name here : \")\n",
    "    ask=input(\"Type Y to continue or N to stop : \")\n",
    "    students.update({num:name})\n",
    "    if ask==\"N\" or ask==\"n\":\n",
    "        a=False\n",
    "print(students)\n",
    "stu=list(students.values())   \n",
    "stu.sort()\n",
    "print(\"\\nSorted names = {}\".format(stu))"
   ]
  },
  {
   "cell_type": "code",
   "execution_count": 8,
   "id": "487d3247",
   "metadata": {},
   "outputs": [],
   "source": [
    "# 4. Write a Python which returns a new list of Booleans, from a given number. Iterating through the number one digit at a time, append True if the digit is 1 and False if it is 0."
   ]
  },
  {
   "cell_type": "code",
   "execution_count": 9,
   "id": "75e7795b",
   "metadata": {},
   "outputs": [
    {
     "name": "stdout",
     "output_type": "stream",
     "text": [
      "enter only zeros and ones\n",
      "01011010\n",
      "\n",
      " [False, True, False, True, True, False, True, False]\n"
     ]
    }
   ],
   "source": [
    "print(\"enter only zeros and ones\")\n",
    "\n",
    "num=input()\n",
    "boolian=[]\n",
    "for i in num:\n",
    "    if i==\"0\":\n",
    "        boolian.append(False)\n",
    "    else:\n",
    "        boolian.append(True)\n",
    "print(\"\\n {}\".format(boolian))"
   ]
  },
  {
   "cell_type": "code",
   "execution_count": 10,
   "id": "0b60a4d4",
   "metadata": {},
   "outputs": [],
   "source": [
    "# 5.Write a Python program where you will return a dictionary where the keys will be the character and the values will be the occurrence of the character in the string, and it should for any string inputs (dynamic)"
   ]
  },
  {
   "cell_type": "code",
   "execution_count": 12,
   "id": "595f40aa",
   "metadata": {},
   "outputs": [
    {
     "name": "stdout",
     "output_type": "stream",
     "text": [
      "Please enter any string here : my name is ameem\n",
      "{'m': 4, 'y': 1, 'n': 1, 'a': 2, 'e': 3, 'i': 1, 's': 1}\n"
     ]
    }
   ],
   "source": [
    "string=input(\"Please enter any string here : \")\n",
    "new=[]\n",
    "dic={}\n",
    "for letters in string:\n",
    "    if letters==\" \":\n",
    "        continue\n",
    "    new.append(letters)\n",
    "for item in new:\n",
    "    dic.update({item:new.count(item)})\n",
    "print(dic)"
   ]
  },
  {
   "cell_type": "code",
   "execution_count": 13,
   "id": "6d422e4c",
   "metadata": {},
   "outputs": [],
   "source": [
    "# 6. Given a dictionary containing the names and ages of a group of people, return the name of the oldest person"
   ]
  },
  {
   "cell_type": "code",
   "execution_count": 14,
   "id": "80b3f84f",
   "metadata": {},
   "outputs": [
    {
     "name": "stdout",
     "output_type": "stream",
     "text": [
      "Name : siddu\n",
      "Age : 75\n",
      "Type Y to continue or N to stop : y\n",
      "Name : Ameem\n",
      "Age : 12\n",
      "Type Y to continue or N to stop : y\n",
      "Name : keerthi\n",
      "Age : 50\n",
      "Type Y to continue or N to stop : y\n",
      "Name : teja\n",
      "Age : 27\n",
      "Type Y to continue or N to stop : n\n",
      "{'siddu': 75, 'Ameem': 12, 'keerthi': 50, 'teja': 27}\n",
      "\n",
      "The oldest person is --> siddu\n"
     ]
    }
   ],
   "source": [
    "x=0\n",
    "dic={}\n",
    "while True:\n",
    "    name=input(\"Name : \")\n",
    "    age=int(input(\"Age : \"))\n",
    "    dic.update({name:age})\n",
    "    ask=input(\"Type Y to continue or N to stop : \")\n",
    "    if ask==\"N\" or ask==\"n\":\n",
    "        break\n",
    "old=max(dic.values())\n",
    "names=list(dic.keys())\n",
    "ages=list(dic.values())\n",
    "print(dic)\n",
    "print(\"\\nThe oldest person is --> {}\".format(names[ages.index(old)]))"
   ]
  },
  {
   "cell_type": "code",
   "execution_count": 15,
   "id": "19caa05d",
   "metadata": {},
   "outputs": [],
   "source": [
    "# 7. Write a Python program to create a Rock, Paper, Scissor game, use two inputs for two players:"
   ]
  },
  {
   "cell_type": "code",
   "execution_count": 1,
   "id": "ef7d1eb7",
   "metadata": {},
   "outputs": [
    {
     "name": "stdout",
     "output_type": "stream",
     "text": [
      "Type: R - Rock\n",
      "      P - Paper\n",
      "      S - Scissor\n",
      "Person 1 name : siddu\n",
      "Person 2 name : teja\n",
      "P-1 : R\n",
      "P-2 : S\n",
      "\n",
      "siddu Wins\n",
      "Type Y to continue or N to stop : P\n",
      "P-1 : S\n",
      "P-2 : R\n",
      "\n",
      "teja Wins\n",
      "Type Y to continue or N to stop : Y\n",
      "P-1 : S\n",
      "P-2 : R\n",
      "\n",
      "teja Wins\n",
      "Type Y to continue or N to stop : N\n",
      "Game Over\n"
     ]
    }
   ],
   "source": [
    "print(\"Type: R - Rock\\n      P - Paper\\n      S - Scissor\")\n",
    "n_1=input(\"Person 1 name : \")\n",
    "n_2=input(\"Person 2 name : \")\n",
    "while True:\n",
    "    person_1=input(\"P-1 : \")\n",
    "    person_2=input(\"P-2 : \")\n",
    "    if person_1==\"R\" and person_2==\"S\":\n",
    "        print(\"\\n{} Wins\".format(n_1))\n",
    "        ask=input(\"Type Y to continue or N to stop : \")\n",
    "        if ask==\"N\" or ask==\"n\":\n",
    "            print(\"Game Over\")\n",
    "            break\n",
    "    elif person_1==\"S\" and person_2==\"P\":\n",
    "        print(\"\\n{} Wins\".format(n_1))\n",
    "        ask=input(\"Type Y to continue or N to stop : \")\n",
    "        if ask==\"N\" or ask==\"n\":\n",
    "            print(\"Game Over\")\n",
    "            break\n",
    "    elif person_1==\"P\" and person_2==\"R\":\n",
    "        print(\"\\n{} Wins\".format(n_1))\n",
    "        ask=input(\"Type Y to continue or N to stop : \")\n",
    "        if ask==\"N\" or ask==\"n\":\n",
    "            print(\"Game Over\")\n",
    "            break\n",
    "    elif person_2==\"R\" and person_1==\"S\":\n",
    "        print(\"\\n{} Wins\".format(n_2))\n",
    "        ask=input(\"Type Y to continue or N to stop : \")\n",
    "        if ask==\"N\" or ask==\"n\":\n",
    "            print(\"Game Over\")\n",
    "            break\n",
    "    elif person_2==\"S\" and person_1==\"P\":\n",
    "        print(\"\\n{} Wins\".format(n_2))\n",
    "        ask=input(\"Type Y to continue or N to stop : \")\n",
    "        if ask==\"N\" or ask==\"n\":\n",
    "            print(\"Game Over\")\n",
    "            break\n",
    "    elif person_2==\"P\" and person_1==\"R\":\n",
    "        print(\"\\n{} Wins\".format(n_2))\n",
    "        ask=input(\"Type Y to continue or N to stop : \")\n",
    "        if ask==\"N\" or ask==\"n\":\n",
    "            print(\"Game Over\")\n",
    "            break                                                                         \n",
    "    elif person_2==\"R\" and person_1==\"R\":\n",
    "        print(\"\\nBoth {} and {} Wins\".format(n_1,n_2))\n",
    "        ask=input(\"Type Y to continue or N to stop : \")\n",
    "        if ask==\"N\" or ask==\"n\":\n",
    "            print(\"Game Over\")\n",
    "            break\n",
    "    elif person_2==\"S\" and person_1==\"S\":\n",
    "        print(\"\\nBoth {} and {} Wins\".format(n_1,n_2))\n",
    "        ask=input(\"Type Y to continue or N to stop : \")\n",
    "        if ask==\"N\" or ask==\"n\":\n",
    "            print(\"Game Over\")\n",
    "            break\n",
    "    elif person_2==\"P\"and person_1==\"P\":\n",
    "        print(\"\\nBoth {} and {} Wins\".format(n_1,n_2))\n",
    "        ask=input(\"Type Y to continue or N to stop : \")\n",
    "        if ask==\"N\" or ask==\"n\":\n",
    "            print(\"Game Over\")\n",
    "            break"
   ]
  },
  {
   "cell_type": "code",
   "execution_count": 2,
   "id": "8f1c6215",
   "metadata": {},
   "outputs": [],
   "source": [
    "# 8. Create a program that returns a list of items that you can afford in the store with the money you have in your wallet. Create a dictionary with items as key and price as values"
   ]
  },
  {
   "cell_type": "code",
   "execution_count": 3,
   "id": "3f16e354",
   "metadata": {},
   "outputs": [
    {
     "name": "stdout",
     "output_type": "stream",
     "text": [
      "Please enter your wallet balance : 50\n",
      "['Water Bottle', 'Chips', 'Fruits']\n"
     ]
    }
   ],
   "source": [
    "store={\"Water Bottle\":20,\"Chips\":10,\"Coke\":80,\"Fruits\":50,\"i-phone\":69999,\"Cake\":400,\"Pens\":58,\"T.V\":240000,\"Fridge\":70000}\n",
    "items=list(store.keys())\n",
    "prices=list(store.values())\n",
    "pack=list(zip(items,prices))\n",
    "wallet=int(input(\"Please enter your wallet balance : \"))\n",
    "cart=[]\n",
    "new=[]\n",
    "for tags in prices:                 # Throwing all the price tags into new variable which are in budget range of wallet\n",
    "    if tags<=wallet:\n",
    "        cart.append(tags)\n",
    "for i,j in pack:\n",
    "    if j in cart:\n",
    "        new.append(i)\n",
    "print(new)"
   ]
  },
  {
   "cell_type": "code",
   "execution_count": 4,
   "id": "dce8e334",
   "metadata": {},
   "outputs": [],
   "source": [
    "# 9. Write a Python program to create a union of sets"
   ]
  },
  {
   "cell_type": "code",
   "execution_count": 5,
   "id": "721ae986",
   "metadata": {},
   "outputs": [
    {
     "name": "stdout",
     "output_type": "stream",
     "text": [
      "Names-1 : apple,mango,tomato\n",
      "Names-2 : potato,brinjal,cabbage\n"
     ]
    },
    {
     "data": {
      "text/plain": [
       "{'apple', 'brinjal', 'cabbage', 'mango', 'potato', 'tomato'}"
      ]
     },
     "execution_count": 5,
     "metadata": {},
     "output_type": "execute_result"
    }
   ],
   "source": [
    "nms1=input(\"Names-1 : \")\n",
    "nms2=input(\"Names-2 : \")\n",
    "names1=set(nms1.split(\",\"))\n",
    "names2=set(nms2.split(\",\")) \n",
    "names1.union(names2)"
   ]
  },
  {
   "cell_type": "code",
   "execution_count": 6,
   "id": "85b555b7",
   "metadata": {},
   "outputs": [],
   "source": [
    "# 10. Write a Python program to check if a given value is present in a set or not"
   ]
  },
  {
   "cell_type": "code",
   "execution_count": 8,
   "id": "1712e2a4",
   "metadata": {},
   "outputs": [
    {
     "name": "stdout",
     "output_type": "stream",
     "text": [
      "Provide Numbers here : 555\n",
      "Press S to stop :  .\n",
      "Provide Numbers here : 777\n",
      "Press S to stop :  .\n",
      "Provide Numbers here : 300\n",
      "Press S to stop :  .\n",
      "Provide Numbers here : 500\n",
      "Press S to stop :  s\n",
      "Now provide the numbers to check whether they are present in above created SET..\n",
      "Provide Numbers here : 367\n",
      "Press S to stop :  y\n",
      "Provide Numbers here : 556\n",
      "Press S to stop :  s\n",
      "\n",
      "Number : 367 is not in the SET {777, 555, 300, 500}\n",
      "\n",
      "Number : 556 is not in the SET {777, 555, 300, 500}\n"
     ]
    }
   ],
   "source": [
    "st=set()\n",
    "check=[]\n",
    "while True:\n",
    "    enter=int(input(\"Provide Numbers here : \"))                  # Creating SET you want\n",
    "    st.add(enter)\n",
    "    stop=input(\"Press S to stop :  \")\n",
    "    if stop==\"S\" or stop==\"s\":\n",
    "        break\n",
    "        \n",
    "print(\"Now provide the numbers to check whether they are present in above created SET..\")\n",
    "\n",
    "while True:                                                       # Taking numbers to check wether it present inside SET\n",
    "    enter=int(input(\"Provide Numbers here : \"))\n",
    "    check.append(enter)\n",
    "    stop=input(\"Press S to stop :  \")\n",
    "    if stop==\"S\" or stop==\"s\":\n",
    "        break\n",
    "        \n",
    "for num in check:                                                # Checking for the numbers in set.\n",
    "    if num in st:\n",
    "        print(\"\\nNumber : {} is in the SET {}\".format(num,st))\n",
    "    else:\n",
    "        print(\"\\nNumber : {} is not in the SET {}\".format(num,st))"
   ]
  },
  {
   "cell_type": "code",
   "execution_count": 9,
   "id": "7e8b92ae",
   "metadata": {},
   "outputs": [],
   "source": [
    "# 11. Write a Python program to find the occurrences of 3 most common words in a given text. And make it as a dictionaries"
   ]
  },
  {
   "cell_type": "code",
   "execution_count": 11,
   "id": "70dc14ce",
   "metadata": {},
   "outputs": [
    {
     "name": "stdout",
     "output_type": "stream",
     "text": [
      "lion lion lion cat cat cat cat cat tiger tiger tiger tiger tiger rat rat rat rat ele ele ele\n",
      "{'lion': 3, 'cat': 5, 'tiger': 5, 'rat': 4, 'ele': 3}\n"
     ]
    }
   ],
   "source": [
    "name=input()\n",
    "check=name.split()\n",
    "dic={}\n",
    "for names in check:\n",
    "    if name.count(names)>=3:\n",
    "        dic.update({names:name.count(names)})\n",
    "print(dic)"
   ]
  },
  {
   "cell_type": "code",
   "execution_count": 12,
   "id": "5ff0043f",
   "metadata": {},
   "outputs": [],
   "source": [
    "# 12. Write a Python program that accepts name of given subject and mark, and make subjects as keys in dictionaries and marks as values and print the final dictionary with subjects and marks"
   ]
  },
  {
   "cell_type": "code",
   "execution_count": 13,
   "id": "7e96c303",
   "metadata": {},
   "outputs": [
    {
     "name": "stdout",
     "output_type": "stream",
     "text": [
      "Please enter all the names and marks in their provided column. use [','] to seperate the names\n",
      "Subject Names : telugu hindi english\n",
      "Marks : 100 100 100\n",
      "{'telugu hindi english': '100 100 100'}\n"
     ]
    }
   ],
   "source": [
    "print(\"Please enter all the names and marks in their provided column. use [','] to seperate the names\")\n",
    "progress_report={}\n",
    "while True:\n",
    "    nms=input(\"Subject Names : \")\n",
    "    mks=input(\"Marks : \")\n",
    "    names=nms.split(\",\")\n",
    "    marks=mks.split(\",\")\n",
    "    full=zip(names,marks)\n",
    "    \n",
    "    if len(names)==len(marks):\n",
    "        for i,j in full:\n",
    "            progress_report.update({i:j})\n",
    "        break\n",
    "print(progress_report)"
   ]
  },
  {
   "cell_type": "code",
   "execution_count": null,
   "id": "5a20e740",
   "metadata": {},
   "outputs": [],
   "source": []
  }
 ],
 "metadata": {
  "kernelspec": {
   "display_name": "Python 3 (ipykernel)",
   "language": "python",
   "name": "python3"
  },
  "language_info": {
   "codemirror_mode": {
    "name": "ipython",
    "version": 3
   },
   "file_extension": ".py",
   "mimetype": "text/x-python",
   "name": "python",
   "nbconvert_exporter": "python",
   "pygments_lexer": "ipython3",
   "version": "3.9.13"
  }
 },
 "nbformat": 4,
 "nbformat_minor": 5
}
